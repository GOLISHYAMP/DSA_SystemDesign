{
 "cells": [
  {
   "cell_type": "code",
   "execution_count": 2,
   "id": "98af8d12",
   "metadata": {},
   "outputs": [
    {
     "name": "stdout",
     "output_type": "stream",
     "text": [
      "7\n"
     ]
    }
   ],
   "source": [
    "# Largest consecutive sum\n",
    "# Maximum subarray sum\n",
    "\n",
    "li = [-2, -3, 4, -1, -2, 1, 5, -3]\n",
    "\n",
    "max_sum = float('-inf')\n",
    "curr_sum = li[0]\n",
    "for i in range(1, len(li)):\n",
    "    curr_sum = max(curr_sum + li[i], li[i])\n",
    "    max_sum = max(curr_sum, max_sum)\n",
    "print(max_sum)"
   ]
  },
  {
   "cell_type": "code",
   "execution_count": 6,
   "id": "24c0d11a",
   "metadata": {},
   "outputs": [
    {
     "name": "stdout",
     "output_type": "stream",
     "text": [
      "5\n",
      "[5]\n"
     ]
    }
   ],
   "source": [
    "# The above code is good but cannot know from where to where the subarray is considered for max sum\n",
    "\n",
    "li = [-2, -3, 4, -1, -2, 1, -6, 5, -3]\n",
    "start = 0\n",
    "end = 0\n",
    "max_sum = float('-inf')\n",
    "curr_sum = 0\n",
    "n = len(li)\n",
    "max_sum_arr = []\n",
    "while end < n:\n",
    "    while curr_sum < 0:\n",
    "        curr_sum -= li[start]\n",
    "        start += 1\n",
    "\n",
    "    curr_sum = curr_sum + li[end]\n",
    "    end += 1\n",
    "    if max_sum < curr_sum:\n",
    "        max_sum = curr_sum\n",
    "        max_sum_arr = li[start:end]\n",
    "\n",
    "print(max_sum)\n",
    "print(max_sum_arr)\n",
    "\n"
   ]
  },
  {
   "cell_type": "code",
   "execution_count": 9,
   "id": "5eb95f47",
   "metadata": {},
   "outputs": [
    {
     "name": "stdout",
     "output_type": "stream",
     "text": [
      "-9\n",
      "[-2, -3, 4, -1, -2, 1, -6]\n"
     ]
    }
   ],
   "source": [
    "li = [-2, -3, 4, -1, -2, 1, -6, 5, -3]\n",
    "min_sum = float('inf')\n",
    "curr_sum = 0\n",
    "start = 0\n",
    "end = 0\n",
    "n = len(li)\n",
    "min_sum_arr = []\n",
    "while end < n:\n",
    "    while curr_sum > 0:\n",
    "        curr_sum -= li[start]\n",
    "        start += 1\n",
    "    curr_sum += li[end]\n",
    "    end += 1\n",
    "    if curr_sum < min_sum:\n",
    "        min_sum = curr_sum\n",
    "        min_sum_arr = li[start:end]\n",
    "\n",
    "print(min_sum)\n",
    "print(min_sum_arr)\n"
   ]
  },
  {
   "cell_type": "code",
   "execution_count": 10,
   "id": "f343993c",
   "metadata": {},
   "outputs": [
    {
     "name": "stdout",
     "output_type": "stream",
     "text": [
      "-9\n"
     ]
    }
   ],
   "source": [
    "li = [-2, -3, 4, -1, -2, 1, -6, 5, -3]\n",
    "\n",
    "curr_sum = 0\n",
    "min_sum = float('inf')\n",
    "for i in range(len(li)):\n",
    "    curr_sum = min(curr_sum + li[i], li[i])\n",
    "    min_sum = min(min_sum , curr_sum)\n",
    "\n",
    "print(min_sum)"
   ]
  },
  {
   "cell_type": "code",
   "execution_count": 12,
   "id": "75adb2ef",
   "metadata": {},
   "outputs": [
    {
     "name": "stdout",
     "output_type": "stream",
     "text": [
      "5\n"
     ]
    }
   ],
   "source": [
    "# Max profit from trade\n",
    "li = [7, 1, 5, 3, 6, 4]\n",
    "\n",
    "max_profit = float('-inf')\n",
    "curr_profit = 0\n",
    "for i in range(1, len(li)):\n",
    "    diff = li[i] - li[i-1]\n",
    "    curr_profit = max(curr_profit + diff, 0)\n",
    "    max_profit = max(max_profit, curr_profit)\n",
    "\n",
    "print(max_profit)"
   ]
  },
  {
   "cell_type": "code",
   "execution_count": 14,
   "id": "ffe24ae7",
   "metadata": {},
   "outputs": [
    {
     "name": "stdout",
     "output_type": "stream",
     "text": [
      "-6\n"
     ]
    }
   ],
   "source": [
    "# max loss from single trade\n",
    "\n",
    "li = [7, 1, 5, 3, 6, 4]\n",
    "\n",
    "max_loss = float('inf')\n",
    "curr_loss = 0\n",
    "for i in range(1, len(li)):\n",
    "    diff = li[i] - li[i-1]\n",
    "    curr_loss = min(curr_loss + diff, 0)\n",
    "    max_loss = min(curr_loss , max_loss)\n",
    "\n",
    "print(max_loss)"
   ]
  },
  {
   "cell_type": "code",
   "execution_count": null,
   "id": "74e33577",
   "metadata": {},
   "outputs": [],
   "source": []
  }
 ],
 "metadata": {
  "kernelspec": {
   "display_name": "venv",
   "language": "python",
   "name": "python3"
  },
  "language_info": {
   "codemirror_mode": {
    "name": "ipython",
    "version": 3
   },
   "file_extension": ".py",
   "mimetype": "text/x-python",
   "name": "python",
   "nbconvert_exporter": "python",
   "pygments_lexer": "ipython3",
   "version": "3.10.12"
  }
 },
 "nbformat": 4,
 "nbformat_minor": 5
}
