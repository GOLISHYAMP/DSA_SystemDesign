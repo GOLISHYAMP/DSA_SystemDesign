{
 "cells": [
  {
   "cell_type": "markdown",
   "id": "f919cbbc",
   "metadata": {},
   "source": [
    "# Finding the maximum occuring element from the array"
   ]
  },
  {
   "cell_type": "code",
   "execution_count": 3,
   "id": "80593b2c",
   "metadata": {},
   "outputs": [
    {
     "name": "stdout",
     "output_type": "stream",
     "text": [
      "4\n"
     ]
    }
   ],
   "source": [
    "# The lonely condition for the moore is the maximum occurring element occurs more then n/2\n",
    "li = [4, 2, 3, 4, 4, 1]\n",
    "i = 0\n",
    "n = len(li)-1\n",
    "max_ele = 0\n",
    "count = 0\n",
    "while i < n:\n",
    "    if count == 0:\n",
    "        max_ele = li[i]\n",
    "        count = 1\n",
    "    else:\n",
    "        if li[i] ==  max_ele:\n",
    "            count += 1\n",
    "        else:\n",
    "            count -= 1\n",
    "    i += 1\n",
    "print(max_ele)"
   ]
  },
  {
   "cell_type": "code",
   "execution_count": null,
   "id": "3a806eca",
   "metadata": {},
   "outputs": [],
   "source": []
  }
 ],
 "metadata": {
  "kernelspec": {
   "display_name": "venv",
   "language": "python",
   "name": "python3"
  },
  "language_info": {
   "codemirror_mode": {
    "name": "ipython",
    "version": 3
   },
   "file_extension": ".py",
   "mimetype": "text/x-python",
   "name": "python",
   "nbconvert_exporter": "python",
   "pygments_lexer": "ipython3",
   "version": "3.10.12"
  }
 },
 "nbformat": 4,
 "nbformat_minor": 5
}
