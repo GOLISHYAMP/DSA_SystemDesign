{
 "cells": [
  {
   "cell_type": "markdown",
   "id": "1a84f529",
   "metadata": {},
   "source": [
    "# Right rotate the elements in the array by d positions."
   ]
  },
  {
   "cell_type": "code",
   "execution_count": 4,
   "id": "a8e9ebc3",
   "metadata": {},
   "outputs": [
    {
     "data": {
      "text/plain": [
       "2"
      ]
     },
     "execution_count": 4,
     "metadata": {},
     "output_type": "execute_result"
    }
   ],
   "source": [
    "def gcd(num1, num2):\n",
    "    gcd = 1\n",
    "    min_num = min(num1, num2)\n",
    "    for i in range(2, min_num):\n",
    "        if num1 % i == 0 and num2 % i == 0:\n",
    "            gcd = i\n",
    "    return gcd\n",
    "\n",
    "gcd(6,4)"
   ]
  },
  {
   "cell_type": "markdown",
   "id": "66579d0c",
   "metadata": {},
   "source": [
    "# Right shifting"
   ]
  },
  {
   "cell_type": "code",
   "execution_count": 14,
   "id": "4ee6bd2c",
   "metadata": {},
   "outputs": [
    {
     "name": "stdout",
     "output_type": "stream",
     "text": [
      "[3, 4, 5, 1, 2]\n"
     ]
    }
   ],
   "source": [
    "li = [1,2,3,4,5]\n",
    "d = 3\n",
    "n = len(li)\n",
    "# i = 0\n",
    "\n",
    "for i in range(gcd(n, d)):\n",
    "    temp = li[i]\n",
    "    j = i\n",
    "    while True:\n",
    "        k = (j - d) % n\n",
    "        if i == k:\n",
    "            break\n",
    "        li[j] = li[k]\n",
    "        j = k\n",
    "    li[j] = temp\n",
    "print(li)"
   ]
  },
  {
   "cell_type": "markdown",
   "id": "10ae5ab8",
   "metadata": {},
   "source": [
    "# Left shifting"
   ]
  },
  {
   "cell_type": "code",
   "execution_count": null,
   "id": "8d984b39",
   "metadata": {},
   "outputs": [
    {
     "name": "stdout",
     "output_type": "stream",
     "text": [
      "[4, 5, 1, 2, 3]\n"
     ]
    }
   ],
   "source": [
    "li = [1,2,3,4,5]\n",
    "d = 3\n",
    "n = len(li)\n",
    "# i = 0\n",
    "\n",
    "for i in range(gcd(n, d)):\n",
    "    temp = li[i]\n",
    "    j = i\n",
    "    while True:\n",
    "        k = (j + d) % n  # For left and right just change this line + or - thats it\n",
    "        if i == k:\n",
    "            break\n",
    "        li[j] = li[k]\n",
    "        j = k\n",
    "    li[j] = temp\n",
    "print(li)"
   ]
  },
  {
   "cell_type": "code",
   "execution_count": null,
   "id": "78f9dae8",
   "metadata": {},
   "outputs": [],
   "source": []
  }
 ],
 "metadata": {
  "kernelspec": {
   "display_name": "venv",
   "language": "python",
   "name": "python3"
  },
  "language_info": {
   "codemirror_mode": {
    "name": "ipython",
    "version": 3
   },
   "file_extension": ".py",
   "mimetype": "text/x-python",
   "name": "python",
   "nbconvert_exporter": "python",
   "pygments_lexer": "ipython3",
   "version": "3.10.12"
  }
 },
 "nbformat": 4,
 "nbformat_minor": 5
}
