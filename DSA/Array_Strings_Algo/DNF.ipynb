{
 "cells": [
  {
   "cell_type": "markdown",
   "id": "51541827",
   "metadata": {},
   "source": [
    " ```\n",
    " DNF (Dutch National Flag)\n",
    " Sorting of array containing only 3 unique numbers,\n",
    " We have to sort the array without using any\n",
    " sorting algorithm.\n",
    " ```"
   ]
  },
  {
   "cell_type": "code",
   "execution_count": 4,
   "id": "349621fc",
   "metadata": {},
   "outputs": [
    {
     "name": "stdout",
     "output_type": "stream",
     "text": [
      "[0, 0, 1, 1, 1, 2, 2]\n"
     ]
    }
   ],
   "source": [
    "li = [2, 1, 0, 0, 2, 1, 1]\n",
    "i = 0\n",
    "j = 0\n",
    "k = len(li)-1\n",
    "while (j < k):\n",
    "    if li[j] == 2:\n",
    "        li[k], li[j] = li[j], li[k]\n",
    "        k -= 1\n",
    "        j += 1\n",
    "    elif li[j] == 1:\n",
    "        j += 1\n",
    "    else:\n",
    "        li[i], li[j] = li[j], li[i]\n",
    "        i += 1\n",
    "        j += 1\n",
    "print(li)\n",
    "\n"
   ]
  },
  {
   "cell_type": "code",
   "execution_count": null,
   "id": "12d7f15f",
   "metadata": {},
   "outputs": [],
   "source": []
  }
 ],
 "metadata": {
  "kernelspec": {
   "display_name": "venv",
   "language": "python",
   "name": "python3"
  },
  "language_info": {
   "codemirror_mode": {
    "name": "ipython",
    "version": 3
   },
   "file_extension": ".py",
   "mimetype": "text/x-python",
   "name": "python",
   "nbconvert_exporter": "python",
   "pygments_lexer": "ipython3",
   "version": "3.10.12"
  }
 },
 "nbformat": 4,
 "nbformat_minor": 5
}
