{
 "cells": [
  {
   "cell_type": "code",
   "execution_count": 4,
   "id": "05c8e31e",
   "metadata": {},
   "outputs": [
    {
     "name": "stdout",
     "output_type": "stream",
     "text": [
      "7 15\n"
     ]
    }
   ],
   "source": [
    "li = [11, 7, 2, 15]\n",
    "target = 22\n",
    "li.sort()\n",
    "i = 0\n",
    "j = len(li)-1\n",
    "found = False\n",
    "while i < j:\n",
    "    if li[i] + li[j] == target:\n",
    "        print(li[i], li[j])\n",
    "        found = True\n",
    "        break\n",
    "    else:\n",
    "        if li[i] + li[j] > target:\n",
    "            j -= 1\n",
    "        else:\n",
    "            i += 1\n",
    "if not found:\n",
    "    print(\"Not two nums sums to target\")"
   ]
  },
  {
   "cell_type": "code",
   "execution_count": 9,
   "id": "a1d32f5e",
   "metadata": {},
   "outputs": [
    {
     "name": "stdout",
     "output_type": "stream",
     "text": [
      "7 11 15\n"
     ]
    }
   ],
   "source": [
    "# 3 sums upto target\n",
    "li = [11, 7, 2, 15]\n",
    "target = 33\n",
    "def two_sum(li, i, target):\n",
    "    found = False\n",
    "    j = len(li)-1\n",
    "    while i < j:\n",
    "        if li[i] + li[j] == target:\n",
    "            found = True\n",
    "            return (found, li[i], li[j])\n",
    "            \n",
    "        else:\n",
    "            if li[i] + li[j] > target:\n",
    "                j -= 1\n",
    "            else:\n",
    "                i += 1\n",
    "    return (found, li[i], li[j])\n",
    "\n",
    "li.sort()\n",
    "i = 0\n",
    "for i in range(len(li)-2):\n",
    "    res = two_sum(li, i, target-li[i])\n",
    "    if res[0]:\n",
    "        print(li[i], res[1], res[2])\n",
    "        break\n",
    "if not res[0]:\n",
    "    print(\"three sum not found\")\n",
    "\n"
   ]
  },
  {
   "cell_type": "code",
   "execution_count": null,
   "id": "f8cc72f0",
   "metadata": {},
   "outputs": [],
   "source": []
  }
 ],
 "metadata": {
  "kernelspec": {
   "display_name": "venv",
   "language": "python",
   "name": "python3"
  },
  "language_info": {
   "codemirror_mode": {
    "name": "ipython",
    "version": 3
   },
   "file_extension": ".py",
   "mimetype": "text/x-python",
   "name": "python",
   "nbconvert_exporter": "python",
   "pygments_lexer": "ipython3",
   "version": "3.10.12"
  }
 },
 "nbformat": 4,
 "nbformat_minor": 5
}
